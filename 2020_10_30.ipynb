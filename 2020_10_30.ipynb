{
  "nbformat": 4,
  "nbformat_minor": 0,
  "metadata": {
    "colab": {
      "name": "2020/10/30.ipynb",
      "provenance": [],
      "collapsed_sections": [],
      "authorship_tag": "ABX9TyN72Xlf2x/rEceulgJObdnB",
      "include_colab_link": true
    },
    "kernelspec": {
      "name": "python3",
      "display_name": "Python 3"
    }
  },
  "cells": [
    {
      "cell_type": "markdown",
      "metadata": {
        "id": "view-in-github",
        "colab_type": "text"
      },
      "source": [
        "<a href=\"https://colab.research.google.com/github/seungbinpark/H-omiez/blob/master/2020_10_30.ipynb\" target=\"_parent\"><img src=\"https://colab.research.google.com/assets/colab-badge.svg\" alt=\"Open In Colab\"/></a>"
      ]
    },
    {
      "cell_type": "code",
      "metadata": {
        "id": "AyLkP2O2Y-wO"
      },
      "source": [
        "import pandas as pd \n",
        "\n",
        "#해당 링크는 한국거래소에서 상장법인목록을 엑셀로 다운로드하는 링크입니다.\n",
        "#다운로드와 동시에 Pandas에 excel 파일이 load가 되는 구조입니다.\n",
        "stock_code = pd.read_html('http://kind.krx.co.kr/corpgeneral/corpList.do?method=download', header=0)[0] \n",
        "#stock_code.head()\n",
        "\n",
        "# 데이터에서 정렬이 따로 필요하지는 않지만 테스트겸 Pandas sort_values를 이용하여 정렬을 시도해봅니다.\n",
        "stock_code.sort_values(['상장일'], ascending=True)\n",
        "\n",
        "# 필요한 것은 \"회사명\"과 \"종목코드\" 이므로 필요없는 column들은 제외\n",
        "stock_code = stock_code[['회사명', '종목코드']] \n",
        "\n",
        "# 한글 컬럼명을 영어로 변경 \n",
        "stock_code = stock_code.rename(columns={'회사명': 'company', '종목코드': 'code'}) \n",
        "#stock_code.head()\n",
        "\n",
        "# 종목코드가 6자리이기 때문에 6자리를 맞춰주기 위해 설정해줌 \n",
        "stock_code.code = stock_code.code.map('{:06d}'.format) "
      ],
      "execution_count": 1,
      "outputs": []
    },
    {
      "cell_type": "code",
      "metadata": {
        "id": "GejXlHSWZBPY"
      },
      "source": [
        "company='LG화학' \n",
        "code = stock_code[stock_code.company==company].code.values[0].strip() ## strip() : 공백제거\n",
        "\n",
        "df = pd.DataFrame()\n",
        "for page in range(1,123):\n",
        "    url = 'http://finance.naver.com/item/sise_day.nhn?code={code}'.format(code=code)     \n",
        "    url = '{url}&page={page}'.format(url=url, page=page)\n",
        "    df = df.append(pd.read_html(url, header=0)[0], ignore_index=True)"
      ],
      "execution_count": 5,
      "outputs": []
    },
    {
      "cell_type": "code",
      "metadata": {
        "id": "6_CvqkRBbMYD"
      },
      "source": [
        "# df.dropna()를 이용해 결측값 있는 행 제거 \n",
        "df = df.dropna() \n",
        "\n",
        "# 한글로 된 컬럼명을 영어로 바꿔줌 \n",
        "df = df.rename(columns= {'날짜': 'date', '종가': 'close', '전일비': 'diff', '시가': 'open', '고가': 'high', '저가': 'low', '거래량': 'volume'}) \n",
        "# 데이터의 타입을 int형으로 바꿔줌 \n",
        "df[['close', 'diff', 'open', 'high', 'low', 'volume']] = df[['close', 'diff', 'open', 'high', 'low', 'volume']].astype(int) \n",
        "\n",
        "# 컬럼명 'date'의 타입을 date로 바꿔줌 \n",
        "df['date'] = pd.to_datetime(df['date']) \n",
        "\n",
        "# 일자(date)를 기준으로 오름차순 정렬 \n",
        "df = df.sort_values(by=['date'], ascending=True) \n",
        "\n",
        "# 상위 5개 데이터 확인 \n",
        "df"
      ],
      "execution_count": null,
      "outputs": []
    },
    {
      "cell_type": "code",
      "metadata": {
        "id": "umPIWg1qZC9W",
        "outputId": "53c6e20c-15c2-4c2a-c6cc-b5e09fa1f11e",
        "colab": {
          "base_uri": "https://localhost:8080/",
          "height": 472
        }
      },
      "source": [
        "# df.dropna()를 이용해 결측값 있는 행 제거 \n",
        "df = df.dropna() \n",
        "\n",
        "# 한글로 된 컬럼명을 영어로 바꿔줌 \n",
        "df = df.rename(columns= {'날짜': 'date', '종가': 'close', '전일비': 'diff', '시가': 'open', '고가': 'high', '저가': 'low', '거래량': 'volume'}) \n",
        "# 데이터의 타입을 int형으로 바꿔줌 \n",
        "df[['close', 'diff', 'open', 'high', 'low', 'volume']] = df[['close', 'diff', 'open', 'high', 'low', 'volume']].astype(int) \n",
        "\n",
        "# 컬럼명 'date'의 타입을 date로 바꿔줌 \n",
        "df['date'] = pd.to_datetime(df['date']) \n",
        "\n",
        "# 일자(date)를 기준으로 오름차순 정렬 \n",
        "df = df.sort_values(by=['date'], ascending=True) \n",
        "\n",
        "# 상위 5개 데이터 확인 \n",
        "df\n",
        "\n",
        "df['X'] = 0\n",
        "for i in range(2,5):\n",
        "  df.iloc[i,:]['X'] = (df.iloc[i,:]['close']-df.iloc[i-1,:]['close'] ) / df.iloc[i-1,:]['close'] * 100\n",
        "\n",
        "df\n"
      ],
      "execution_count": 21,
      "outputs": [
        {
          "output_type": "stream",
          "text": [
            "/usr/local/lib/python3.6/dist-packages/ipykernel_launcher.py:20: SettingWithCopyWarning: \n",
            "A value is trying to be set on a copy of a slice from a DataFrame\n",
            "\n",
            "See the caveats in the documentation: https://pandas.pydata.org/pandas-docs/stable/user_guide/indexing.html#returning-a-view-versus-a-copy\n"
          ],
          "name": "stderr"
        },
        {
          "output_type": "execute_result",
          "data": {
            "text/html": [
              "<div>\n",
              "<style scoped>\n",
              "    .dataframe tbody tr th:only-of-type {\n",
              "        vertical-align: middle;\n",
              "    }\n",
              "\n",
              "    .dataframe tbody tr th {\n",
              "        vertical-align: top;\n",
              "    }\n",
              "\n",
              "    .dataframe thead th {\n",
              "        text-align: right;\n",
              "    }\n",
              "</style>\n",
              "<table border=\"1\" class=\"dataframe\">\n",
              "  <thead>\n",
              "    <tr style=\"text-align: right;\">\n",
              "      <th></th>\n",
              "      <th>date</th>\n",
              "      <th>close</th>\n",
              "      <th>diff</th>\n",
              "      <th>open</th>\n",
              "      <th>high</th>\n",
              "      <th>low</th>\n",
              "      <th>volume</th>\n",
              "      <th>X</th>\n",
              "    </tr>\n",
              "  </thead>\n",
              "  <tbody>\n",
              "    <tr>\n",
              "      <th>1828</th>\n",
              "      <td>2015-11-11</td>\n",
              "      <td>296500</td>\n",
              "      <td>0</td>\n",
              "      <td>295500</td>\n",
              "      <td>299000</td>\n",
              "      <td>286500</td>\n",
              "      <td>203856</td>\n",
              "      <td>0</td>\n",
              "    </tr>\n",
              "    <tr>\n",
              "      <th>1827</th>\n",
              "      <td>2015-11-12</td>\n",
              "      <td>298000</td>\n",
              "      <td>1500</td>\n",
              "      <td>298000</td>\n",
              "      <td>301500</td>\n",
              "      <td>294500</td>\n",
              "      <td>140900</td>\n",
              "      <td>0</td>\n",
              "    </tr>\n",
              "    <tr>\n",
              "      <th>1826</th>\n",
              "      <td>2015-11-13</td>\n",
              "      <td>299500</td>\n",
              "      <td>1500</td>\n",
              "      <td>295000</td>\n",
              "      <td>305000</td>\n",
              "      <td>294000</td>\n",
              "      <td>228823</td>\n",
              "      <td>0</td>\n",
              "    </tr>\n",
              "    <tr>\n",
              "      <th>1825</th>\n",
              "      <td>2015-11-16</td>\n",
              "      <td>294000</td>\n",
              "      <td>5500</td>\n",
              "      <td>294000</td>\n",
              "      <td>298000</td>\n",
              "      <td>293000</td>\n",
              "      <td>140792</td>\n",
              "      <td>0</td>\n",
              "    </tr>\n",
              "    <tr>\n",
              "      <th>1824</th>\n",
              "      <td>2015-11-17</td>\n",
              "      <td>313500</td>\n",
              "      <td>19500</td>\n",
              "      <td>301000</td>\n",
              "      <td>316500</td>\n",
              "      <td>298500</td>\n",
              "      <td>336995</td>\n",
              "      <td>0</td>\n",
              "    </tr>\n",
              "    <tr>\n",
              "      <th>...</th>\n",
              "      <td>...</td>\n",
              "      <td>...</td>\n",
              "      <td>...</td>\n",
              "      <td>...</td>\n",
              "      <td>...</td>\n",
              "      <td>...</td>\n",
              "      <td>...</td>\n",
              "      <td>...</td>\n",
              "    </tr>\n",
              "    <tr>\n",
              "      <th>5</th>\n",
              "      <td>2020-10-26</td>\n",
              "      <td>646000</td>\n",
              "      <td>4000</td>\n",
              "      <td>645000</td>\n",
              "      <td>650000</td>\n",
              "      <td>634000</td>\n",
              "      <td>264208</td>\n",
              "      <td>0</td>\n",
              "    </tr>\n",
              "    <tr>\n",
              "      <th>4</th>\n",
              "      <td>2020-10-27</td>\n",
              "      <td>632000</td>\n",
              "      <td>14000</td>\n",
              "      <td>633000</td>\n",
              "      <td>641000</td>\n",
              "      <td>627000</td>\n",
              "      <td>261388</td>\n",
              "      <td>0</td>\n",
              "    </tr>\n",
              "    <tr>\n",
              "      <th>3</th>\n",
              "      <td>2020-10-28</td>\n",
              "      <td>642000</td>\n",
              "      <td>10000</td>\n",
              "      <td>647000</td>\n",
              "      <td>647000</td>\n",
              "      <td>626000</td>\n",
              "      <td>368105</td>\n",
              "      <td>0</td>\n",
              "    </tr>\n",
              "    <tr>\n",
              "      <th>2</th>\n",
              "      <td>2020-10-29</td>\n",
              "      <td>651000</td>\n",
              "      <td>9000</td>\n",
              "      <td>629000</td>\n",
              "      <td>654000</td>\n",
              "      <td>629000</td>\n",
              "      <td>386081</td>\n",
              "      <td>0</td>\n",
              "    </tr>\n",
              "    <tr>\n",
              "      <th>1</th>\n",
              "      <td>2020-10-30</td>\n",
              "      <td>611000</td>\n",
              "      <td>40000</td>\n",
              "      <td>647000</td>\n",
              "      <td>648000</td>\n",
              "      <td>611000</td>\n",
              "      <td>767854</td>\n",
              "      <td>0</td>\n",
              "    </tr>\n",
              "  </tbody>\n",
              "</table>\n",
              "<p>1220 rows × 8 columns</p>\n",
              "</div>"
            ],
            "text/plain": [
              "           date   close   diff    open    high     low  volume  X\n",
              "1828 2015-11-11  296500      0  295500  299000  286500  203856  0\n",
              "1827 2015-11-12  298000   1500  298000  301500  294500  140900  0\n",
              "1826 2015-11-13  299500   1500  295000  305000  294000  228823  0\n",
              "1825 2015-11-16  294000   5500  294000  298000  293000  140792  0\n",
              "1824 2015-11-17  313500  19500  301000  316500  298500  336995  0\n",
              "...         ...     ...    ...     ...     ...     ...     ... ..\n",
              "5    2020-10-26  646000   4000  645000  650000  634000  264208  0\n",
              "4    2020-10-27  632000  14000  633000  641000  627000  261388  0\n",
              "3    2020-10-28  642000  10000  647000  647000  626000  368105  0\n",
              "2    2020-10-29  651000   9000  629000  654000  629000  386081  0\n",
              "1    2020-10-30  611000  40000  647000  648000  611000  767854  0\n",
              "\n",
              "[1220 rows x 8 columns]"
            ]
          },
          "metadata": {
            "tags": []
          },
          "execution_count": 21
        }
      ]
    },
    {
      "cell_type": "code",
      "metadata": {
        "id": "p_XvAEttZFib"
      },
      "source": [
        ""
      ],
      "execution_count": null,
      "outputs": []
    },
    {
      "cell_type": "markdown",
      "metadata": {
        "id": "51QHZelecNsP"
      },
      "source": [
        ""
      ]
    }
  ]
}